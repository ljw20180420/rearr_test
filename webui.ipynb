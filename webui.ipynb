{
 "cells": [
  {
   "cell_type": "markdown",
   "id": "6b2c1d52",
   "metadata": {},
   "source": [
    "# WebUI\n",
    "\n",
    "```console\n",
    "$ git clone git@github.com:ljw20180420/rearr.git\n",
    "$ cd rearr\n",
    "$ ./compose.md\n",
    "```\n",
    "\n",
    "- ghcr.io/ljw20180420/rearr:latest\n",
    "- rabbitmq:latest\n",
    "- redis:latest\n",
    "- mher/flower:latest\n",
    "- nginx:latest\n",
    "\n",
    "![network structure](webui/netStruct.png \"network structure\")\n",
    "\n",
    "# CRISPResso2\n",
    "\n",
    "![CRISPResso2](webui/CRISPResso2.png \"CRISPResso2\")\n",
    "\n",
    "# Web server (outdated)\n",
    "https://qiangwulab.sjtu.edu.cn"
   ]
  }
 ],
 "metadata": {
  "kernelspec": {
   "display_name": "Python 3",
   "language": "python",
   "name": "python3"
  },
  "language_info": {
   "name": "python",
   "version": "3.11.13"
  }
 },
 "nbformat": 4,
 "nbformat_minor": 5
}
