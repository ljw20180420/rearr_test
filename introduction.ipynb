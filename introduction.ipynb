{
 "cells": [
  {
   "cell_type": "markdown",
   "id": "44095853",
   "metadata": {},
   "source": [
    "# Introduction\n"
   ]
  },
  {
   "cell_type": "code",
   "execution_count": 2,
   "id": "7725ddc6",
   "metadata": {},
   "outputs": [
    {
     "data": {
      "text/html": [
       "<video src=\"introduction/Stagger.mp4\" controls  >\n",
       "      Your browser does not support the <code>video</code> element.\n",
       "    </video>"
      ],
      "text/plain": [
       "<IPython.core.display.Video object>"
      ]
     },
     "metadata": {},
     "output_type": "display_data"
    }
   ],
   "source": [
    "from IPython.display import Video\n",
    "\n",
    "display(Video(\"introduction/Stagger.mp4\"))"
   ]
  },
  {
   "cell_type": "code",
   "execution_count": 2,
   "id": "3300e768",
   "metadata": {},
   "outputs": [
    {
     "data": {
      "text/html": [
       "<video src=\"introduction/MMEJ_0000_Resection.mp4\" controls  >\n",
       "      Your browser does not support the <code>video</code> element.\n",
       "    </video>"
      ],
      "text/plain": [
       "<IPython.core.display.Video object>"
      ]
     },
     "metadata": {},
     "output_type": "display_data"
    }
   ],
   "source": [
    "display(Video(\"introduction/MMEJ_0000_Resection.mp4\"))"
   ]
  },
  {
   "cell_type": "code",
   "execution_count": 4,
   "id": "33045a45",
   "metadata": {},
   "outputs": [
    {
     "data": {
      "text/html": [
       "<video src=\"introduction/MMEJ_0001_MMEJ.mp4\" controls  >\n",
       "      Your browser does not support the <code>video</code> element.\n",
       "    </video>"
      ],
      "text/plain": [
       "<IPython.core.display.Video object>"
      ]
     },
     "metadata": {},
     "output_type": "display_data"
    }
   ],
   "source": [
    "display(Video(\"introduction/MMEJ_0001_MMEJ.mp4\"))"
   ]
  },
  {
   "cell_type": "code",
   "execution_count": 6,
   "id": "b9a4f5cb",
   "metadata": {},
   "outputs": [
    {
     "data": {
      "text/html": [
       "<video src=\"introduction/UNILATERAL_0001_Unilateral.mp4\" controls  >\n",
       "      Your browser does not support the <code>video</code> element.\n",
       "    </video>"
      ],
      "text/plain": [
       "<IPython.core.display.Video object>"
      ]
     },
     "metadata": {},
     "output_type": "display_data"
    }
   ],
   "source": [
    "display(Video(\"introduction/UNILATERAL_0001_Unilateral.mp4\"))"
   ]
  },
  {
   "cell_type": "code",
   "execution_count": 7,
   "id": "6f0d476b",
   "metadata": {},
   "outputs": [
    {
     "data": {
      "text/html": [
       "<video src=\"introduction/UNILATERAL2_0001_Unilateral.mp4\" controls  >\n",
       "      Your browser does not support the <code>video</code> element.\n",
       "    </video>"
      ],
      "text/plain": [
       "<IPython.core.display.Video object>"
      ]
     },
     "metadata": {},
     "output_type": "display_data"
    }
   ],
   "source": [
    "display(Video(\"introduction/UNILATERAL2_0001_Unilateral.mp4\"))"
   ]
  },
  {
   "cell_type": "code",
   "execution_count": 8,
   "id": "d553f55f",
   "metadata": {},
   "outputs": [
    {
     "data": {
      "text/html": [
       "<video src=\"introduction/CHIMERIC.mp4\" controls  >\n",
       "      Your browser does not support the <code>video</code> element.\n",
       "    </video>"
      ],
      "text/plain": [
       "<IPython.core.display.Video object>"
      ]
     },
     "metadata": {},
     "output_type": "display_data"
    }
   ],
   "source": [
    "display(Video(\"introduction/CHIMERIC.mp4\"))"
   ]
  },
  {
   "cell_type": "markdown",
   "id": "6109441d",
   "metadata": {},
   "source": [
    "## Chimeric\n",
    "\n",
    "- Interplay of stagger cleavage, MMEJ and unilateral.\n",
    "- Random insertion with or without template.\n",
    "- Unlisted/Unknown machanisms.\n",
    "- Most tools rely on non-chimeric alignment engines."
   ]
  },
  {
   "cell_type": "code",
   "execution_count": 3,
   "id": "04611b9f",
   "metadata": {},
   "outputs": [
    {
     "data": {
      "text/html": [
       "<video src=\"introduction/DOUBLECLEAVAGE.mp4\" controls  >\n",
       "      Your browser does not support the <code>video</code> element.\n",
       "    </video>"
      ],
      "text/plain": [
       "<IPython.core.display.Video object>"
      ]
     },
     "metadata": {},
     "output_type": "display_data"
    }
   ],
   "source": [
    "display(Video(\"introduction/DOUBLECLEAVAGE.mp4\"))"
   ]
  },
  {
   "cell_type": "markdown",
   "id": "ea5e70f4",
   "metadata": {},
   "source": [
    "## Rearr\n"
   ]
  },
  {
   "cell_type": "code",
   "execution_count": 4,
   "id": "0ca2e3ed",
   "metadata": {},
   "outputs": [
    {
     "data": {
      "text/html": [
       "<video src=\"introduction/Forward.mp4\" controls  >\n",
       "      Your browser does not support the <code>video</code> element.\n",
       "    </video>"
      ],
      "text/plain": [
       "<IPython.core.display.Video object>"
      ]
     },
     "metadata": {},
     "output_type": "display_data"
    }
   ],
   "source": [
    "display(Video(\"introduction/Forward.mp4\"))"
   ]
  },
  {
   "cell_type": "markdown",
   "id": "0f6bbc74",
   "metadata": {},
   "source": [
    "- Support chimeric alignment with more than two segments.\n",
    "- [Farrar's implementation of SIMD](https://doi.org/10.1093/bioinformatics/btl582).\n",
    "- [Optimal alignments in linear space](https://doi.org/10.1093/bioinformatics/4.1.11). Novel branch-and-bound backtrack algorithm.\n"
   ]
  },
  {
   "cell_type": "markdown",
   "id": "f1f67bb4",
   "metadata": {},
   "source": [
    "# Installation\n",
    "\n",
    "```console\n",
    "$ conda install bioconda::rearr\n",
    "```"
   ]
  },
  {
   "cell_type": "markdown",
   "id": "3771845b",
   "metadata": {},
   "source": [
    "# Documentation\n",
    "\n",
    "https://ljw20180420.github.io/rearr/about"
   ]
  }
 ],
 "metadata": {
  "kernelspec": {
   "display_name": "Python 3 (ipykernel)",
   "language": "python",
   "name": "python3"
  },
  "language_info": {
   "codemirror_mode": {
    "name": "ipython",
    "version": 3
   },
   "file_extension": ".py",
   "mimetype": "text/x-python",
   "name": "python",
   "nbconvert_exporter": "python",
   "pygments_lexer": "ipython3",
   "version": "3.11.14"
  }
 },
 "nbformat": 4,
 "nbformat_minor": 5
}
