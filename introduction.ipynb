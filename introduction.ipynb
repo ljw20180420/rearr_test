{
 "cells": [
  {
   "cell_type": "markdown",
   "id": "44095853",
   "metadata": {},
   "source": [
    "# Introduction\n",
    "\n",
    "TODO\n",
    "- animation of stagger, large resection, mmej, two cleavage\n",
    "- example of alignment\n",
    "- compare with CRISPResso\n",
    "- animation of algorithm\n",
    "\n",
    "## Time\n",
    "\n",
    "[Farrar's implementation of SIMD](https://doi.org/10.1093/bioinformatics/btl582).\n",
    "\n",
    "## Space\n",
    "\n",
    "- [Optimal alignments in linear space](https://doi.org/10.1093/bioinformatics/4.1.11).\n",
    "- Branch and bound algorithm."
   ]
  },
  {
   "cell_type": "markdown",
   "id": "f1f67bb4",
   "metadata": {},
   "source": [
    "# Installation\n",
    "\n",
    "```console\n",
    "$ conda install bioconda::rearr\n",
    "```"
   ]
  },
  {
   "cell_type": "markdown",
   "id": "3771845b",
   "metadata": {},
   "source": [
    "# Documentation\n",
    "\n",
    "https://ljw20180420.github.io/rearr/about"
   ]
  }
 ],
 "metadata": {
  "language_info": {
   "name": "python"
  }
 },
 "nbformat": 4,
 "nbformat_minor": 5
}
