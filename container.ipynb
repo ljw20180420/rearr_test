{
 "cells": [
  {
   "cell_type": "markdown",
   "id": "a28a46e9",
   "metadata": {},
   "source": [
    "# Container\n",
    "\n",
    "- https://quay.io/repository/biocontainers/rearr\n",
    "- https://depot.galaxyproject.org/singularity\n",
    "\n",
    "```console\n",
    "$ apptainer shell docker://quay.io/biocontainers/rearr:1.0.3--h9948957_0\n",
    "Apptainer> container/workflow.sh\n",
    "```"
   ]
  }
 ],
 "metadata": {
  "kernelspec": {
   "display_name": "Python 3",
   "language": "python",
   "name": "python3"
  },
  "language_info": {
   "name": "python",
   "version": "3.11.13"
  }
 },
 "nbformat": 4,
 "nbformat_minor": 5
}
