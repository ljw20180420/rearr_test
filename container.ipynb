{
 "cells": [
  {
   "cell_type": "markdown",
   "id": "a28a46e9",
   "metadata": {},
   "source": [
    "# Container\n",
    "\n",
    "- https://quay.io/repository/biocontainers/rearr\n",
    "- https://depot.galaxyproject.org/singularity\n",
    "\n",
    "```console\n",
    "$ apptainer shell docker://quay.io/biocontainers/rearr:1.0.3--h9948957_0\n",
    "Apptainer> container/workflow.sh\n",
    "```"
   ]
  }
 ],
 "metadata": {
  "kernelspec": {
   "display_name": "Python 3 (ipykernel)",
   "language": "python",
   "name": "python3"
  },
  "language_info": {
   "codemirror_mode": {
    "name": "ipython",
    "version": 3
   },
   "file_extension": ".py",
   "mimetype": "text/x-python",
   "name": "python",
   "nbconvert_exporter": "python",
   "pygments_lexer": "ipython3",
   "version": "3.11.14"
  }
 },
 "nbformat": 4,
 "nbformat_minor": 5
}
